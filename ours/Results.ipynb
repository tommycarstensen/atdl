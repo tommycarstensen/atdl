{
 "cells": [
  {
   "cell_type": "code",
   "execution_count": 1,
   "metadata": {},
   "outputs": [],
   "source": [
    "# Imports\n",
    "import torch\n",
    "from torch import nn\n",
    "\n",
    "import wandb\n",
    "\n",
    "from torch_geometric.datasets import AttributedGraphDataset\n",
    "from torch_geometric.transforms import RandomNodeSplit\n",
    "\n",
    "import torch.nn.modules.loss\n",
    "import torch.optim.adam\n",
    "\n",
    "from models import GCN_Model\n",
    "from models import GAT_Model\n",
    "from models import GCN_JK_Model\n",
    "from models import GAT_JK_Model\n",
    "\n",
    "from train import train_and_validate\n",
    "from train import best_model\n",
    "from train import test_on_testset\n",
    "from train import train_and_test_model"
   ]
  },
  {
   "cell_type": "code",
   "execution_count": null,
   "metadata": {},
   "outputs": [],
   "source": [
    "device = (\n",
    "    \"cuda\" if torch.cuda.is_available()\n",
    "    else \"cpu\"\n",
    ")\n",
    "print(f\"Using {device} device\")"
   ]
  },
  {
   "cell_type": "code",
   "execution_count": null,
   "metadata": {},
   "outputs": [],
   "source": [
    "# Dataset\n",
    "transform = RandomNodeSplit(split = \"train_rest\", num_val = 0.2, num_test = 0.2)\n",
    "cora_dataset_raw = AttributedGraphDataset(\"C:/Users/lukas/Desktop/Advanced-topics-in-deep-learning/Assignments/Assignment 2/src/data\", \"Cora\", transform = transform)\n",
    "citeseer_dataset_raw = AttributedGraphDataset(\"C:/Users/lukas/Desktop/Advanced-topics-in-deep-learning/Assignments/Assignment 2/src/data\", \"CiteSeer\", transform = transform)\n",
    "cora_dataset = cora_dataset_raw[0].to(device)\n",
    "citeseer_dataset = citeseer_dataset_raw[0].to(device)"
   ]
  },
  {
   "cell_type": "code",
   "execution_count": 4,
   "metadata": {},
   "outputs": [],
   "source": [
    "epochs = 100\n",
    "hidden_size = 24\n",
    "num_classes = citeseer_dataset_raw.num_classes\n",
    "\n",
    "Training_set = citeseer_dataset.subgraph(citeseer_dataset[\"train_mask\"])\n",
    "Validation_set = citeseer_dataset.subgraph(citeseer_dataset[\"val_mask\"])\n",
    "Test_set = citeseer_dataset.subgraph(citeseer_dataset[\"test_mask\"])\n",
    "\n",
    "#model = lambda l, d: GCN_Model(hidden_size, l, num_classes).to(device)\n",
    "#model = lambda l, d: GAT_Model(d, hidden_size, l, num_classes).to(device)\n",
    "#model = lambda l, d: GCN_JK_Model(hidden_size, l, \"max\", num_classes).to(device)\n",
    "model = lambda l, d: GAT_JK_Model(d, hidden_size, l, \"lstm\", num_classes).to(device)\n",
    "\n",
    "loss_fn = nn.CrossEntropyLoss()\n",
    "\n",
    "best_performance = best_model(Training_set, Validation_set, model, loss_fn, 6, epochs)"
   ]
  },
  {
   "cell_type": "code",
   "execution_count": null,
   "metadata": {},
   "outputs": [],
   "source": [
    "best_performance"
   ]
  },
  {
   "cell_type": "code",
   "execution_count": null,
   "metadata": {},
   "outputs": [],
   "source": [
    "test_on_testset(Test_set, best_performance[\"model\"], device)"
   ]
  },
  {
   "cell_type": "code",
   "execution_count": 7,
   "metadata": {},
   "outputs": [],
   "source": [
    "Training_set = cora_dataset.subgraph(cora_dataset[\"train_mask\"])\n",
    "Validation_set = cora_dataset.subgraph(cora_dataset[\"val_mask\"])\n",
    "Test_set = cora_dataset.subgraph(cora_dataset[\"test_mask\"])\n",
    "\n",
    "num_classes = cora_dataset_raw.num_classes\n",
    "\n",
    "hidden_size = 29\n",
    "\n",
    "model = lambda l, d: GCN_Model(hidden_size, l, num_classes).to(device)\n",
    "#model = lambda l, d: GAT_Model(d, hidden_size, l, num_classes).to(device)\n",
    "#model = lambda l, d: GCN_JK_Model(hidden_size, l, \"max\", num_classes).to(device)\n",
    "#model = lambda l, d: GAT_JK_Model(d, hidden_size, l, \"lstm\", num_classes).to(device)\n",
    "\n",
    "MCAccuracy_mean, MCAccuracy_std = train_and_test_model(Training_set, Validation_set, Test_set, model, layers = 1, epochs = 10000, learning_rate = 0.0076, weight_decay = 0.00030, dropout = 0.3029, device = device)"
   ]
  },
  {
   "cell_type": "code",
   "execution_count": null,
   "metadata": {},
   "outputs": [],
   "source": [
    "MCAccuracy_mean, MCAccuracy_std"
   ]
  },
  {
   "cell_type": "code",
   "execution_count": 6,
   "metadata": {},
   "outputs": [],
   "source": [
    "def GCN_sweep(train_dataloader, val_dataloader, num_classes, config_=None):\n",
    "  with wandb.init(config=config_):\n",
    "    config_ = wandb.config\n",
    "\n",
    "    model = lambda l, d: GCN_Model(config_.hidden_size, l, num_classes).to(device)\n",
    "\n",
    "    loss_fn = nn.CrossEntropyLoss()\n",
    "\n",
    "    MCAccuracies = []\n",
    "\n",
    "    Use_Wandb = True\n",
    "\n",
    "    for iteration in range(5):\n",
    "      (_, MCAccuracy) = train_and_validate(train_dataloader, val_dataloader, model, loss_fn, \n",
    "                                          config_.layers, config_.epochs, config_.learning_rate, \n",
    "                                          config_.weight_decay, config_.dropout, iteration, Use_Wandb)\n",
    "      \n",
    "      MCAccuracies.append(MCAccuracy)\n",
    "\n",
    "    MCAccuracies = torch.Tensor(MCAccuracies)\n",
    "\n",
    "    Mean_MCAccuracy, STD_MCAccuracy = (torch.mean(MCAccuracies), torch.std(MCAccuracies))\n",
    "\n",
    "    wandb.log({'validation mean accuracy': Mean_MCAccuracy})\n",
    "    wandb.log({'validation std accuracy': STD_MCAccuracy})"
   ]
  },
  {
   "cell_type": "code",
   "execution_count": 7,
   "metadata": {},
   "outputs": [],
   "source": [
    "def GAT_sweep(train_dataloader, val_dataloader, num_classes, config_=None):\n",
    "  with wandb.init(config=config_):\n",
    "    config_ = wandb.config\n",
    "\n",
    "    model = lambda l, d: GAT_Model(d, config_.hidden_size, l, num_classes).to(device)\n",
    "\n",
    "    loss_fn = nn.CrossEntropyLoss()\n",
    "\n",
    "    MCAccuracies = []\n",
    "\n",
    "    Use_Wandb = True\n",
    "\n",
    "    for iteration in range(5):\n",
    "      (_, MCAccuracy) = train_and_validate(train_dataloader, val_dataloader, model, loss_fn, \n",
    "                                          config_.layers, config_.epochs, config_.learning_rate, \n",
    "                                          config_.weight_decay, config_.dropout, iteration, Use_Wandb)\n",
    "      \n",
    "      MCAccuracies.append(MCAccuracy)\n",
    "\n",
    "    MCAccuracies = torch.Tensor(MCAccuracies)\n",
    "\n",
    "    Mean_MCAccuracy, STD_MCAccuracy = (torch.mean(MCAccuracies), torch.std(MCAccuracies))\n",
    "\n",
    "    wandb.log({'validation mean accuracy': Mean_MCAccuracy})\n",
    "    wandb.log({'validation std accuracy': STD_MCAccuracy})"
   ]
  },
  {
   "cell_type": "code",
   "execution_count": 8,
   "metadata": {},
   "outputs": [],
   "source": [
    "# Sweep config\n",
    "sweep_config = {\n",
    "  'method': 'random',\n",
    "  'parameters': {\n",
    "    'hidden_size': {'distribution': 'int_uniform',\n",
    "                                    'max': 32,\n",
    "                                    'min': 16},\n",
    "    'layers': {'distribution': 'int_uniform',\n",
    "                               'max': 6,\n",
    "                               'min': 1}, \n",
    "    'epochs': {'value': 100},\n",
    "    'learning_rate': {'distribution': 'uniform',\n",
    "                                      'max': 0.01,\n",
    "                                      'min': 0},\n",
    "    'weight_decay': {'distribution': 'uniform',\n",
    "                                      'max': 0.001,\n",
    "                                      'min': 0},\n",
    "    'dropout': {'distribution': 'uniform',\n",
    "                                'max': 1.0,\n",
    "                                'min': 0.0},\n",
    "  }\n",
    "}"
   ]
  },
  {
   "cell_type": "code",
   "execution_count": 9,
   "metadata": {},
   "outputs": [],
   "source": [
    "def Create_agent_GCN(train_dataloader, val_dataloader, num_classes):\n",
    "  def GCN_sweep_agent(config_ = None):\n",
    "    return GCN_sweep(train_dataloader, val_dataloader, num_classes, config_)\n",
    "\n",
    "  sweep_id = wandb.sweep(sweep_config, project = \"ATIDL Assignment 2\")\n",
    "\n",
    "  wandb.agent(sweep_id, function = GCN_sweep_agent, count = 20)\n",
    "\n",
    "def Create_agent_GAT(train_dataloader, val_dataloader, num_classes):\n",
    "  def GAT_sweep_agent(config_ = None):\n",
    "    return GAT_sweep(train_dataloader, val_dataloader, num_classes, config_)\n",
    "\n",
    "  sweep_id = wandb.sweep(sweep_config, project = \"ATIDL Assignment 2\")\n",
    "\n",
    "  wandb.agent(sweep_id, function = GAT_sweep_agent, count = 20)"
   ]
  },
  {
   "cell_type": "code",
   "execution_count": null,
   "metadata": {},
   "outputs": [],
   "source": [
    "Training_set = cora_dataset.subgraph(cora_dataset[\"train_mask\"])\n",
    "Validation_set = cora_dataset.subgraph(cora_dataset[\"val_mask\"])\n",
    "\n",
    "Create_agent_GAT(Training_set, Validation_set, cora_dataset_raw.num_classes)"
   ]
  },
  {
   "cell_type": "code",
   "execution_count": null,
   "metadata": {},
   "outputs": [],
   "source": [
    "Training_set = cora_dataset.subgraph(cora_dataset[\"train_mask\"])\n",
    "Validation_set = cora_dataset.subgraph(cora_dataset[\"val_mask\"])\n",
    "\n",
    "Create_agent_GCN(Training_set, Validation_set, cora_dataset_raw.num_classes)"
   ]
  }
 ],
 "metadata": {
  "kernelspec": {
   "display_name": "ATIDL",
   "language": "python",
   "name": "python3"
  },
  "language_info": {
   "codemirror_mode": {
    "name": "ipython",
    "version": 3
   },
   "file_extension": ".py",
   "mimetype": "text/x-python",
   "name": "python",
   "nbconvert_exporter": "python",
   "pygments_lexer": "ipython3",
   "version": "3.12.4"
  }
 },
 "nbformat": 4,
 "nbformat_minor": 2
}
